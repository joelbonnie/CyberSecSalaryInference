{
 "cells": [
  {
   "cell_type": "markdown",
   "id": "b1f46cde-d86b-4902-bd2b-b64ceb391787",
   "metadata": {},
   "source": [
    "# PROJECT PROPOSAL "
   ]
  },
  {
   "cell_type": "code",
   "execution_count": null,
   "id": "65e8c050-1093-4805-84f0-8101ea43e6b7",
   "metadata": {},
   "outputs": [],
   "source": []
  },
  {
   "cell_type": "markdown",
   "id": "b1f09804-848f-4327-b413-ebe70a910ba6",
   "metadata": {},
   "source": [
    "#### Group 25: \n",
    "\n",
    "- Antarip Kashyap\n",
    "- Joel Bonnie\n",
    "- Renata Lovette\n",
    "- Zhen Wang \n"
   ]
  },
  {
   "cell_type": "code",
   "execution_count": null,
   "id": "5ad11b9e-a288-4c8d-9e0b-3a079c48934f",
   "metadata": {},
   "outputs": [],
   "source": [
    "#TODO "
   ]
  },
  {
   "cell_type": "code",
   "execution_count": 1,
   "id": "02965057-e309-4e07-a833-6a11234343e3",
   "metadata": {},
   "outputs": [
    {
     "name": "stderr",
     "output_type": "stream",
     "text": [
      "── \u001b[1mAttaching packages\u001b[22m ─────────────────────────────────────── tidyverse 1.3.2 ──\n",
      "\u001b[32m✔\u001b[39m \u001b[34mggplot2\u001b[39m 3.3.6      \u001b[32m✔\u001b[39m \u001b[34mpurrr  \u001b[39m 0.3.4 \n",
      "\u001b[32m✔\u001b[39m \u001b[34mtibble \u001b[39m 3.1.8      \u001b[32m✔\u001b[39m \u001b[34mdplyr  \u001b[39m 1.0.10\n",
      "\u001b[32m✔\u001b[39m \u001b[34mtidyr  \u001b[39m 1.2.1      \u001b[32m✔\u001b[39m \u001b[34mstringr\u001b[39m 1.4.1 \n",
      "\u001b[32m✔\u001b[39m \u001b[34mreadr  \u001b[39m 2.1.2      \u001b[32m✔\u001b[39m \u001b[34mforcats\u001b[39m 0.5.2 \n",
      "── \u001b[1mConflicts\u001b[22m ────────────────────────────────────────── tidyverse_conflicts() ──\n",
      "\u001b[31m✖\u001b[39m \u001b[34mdplyr\u001b[39m::\u001b[32mfilter()\u001b[39m masks \u001b[34mstats\u001b[39m::filter()\n",
      "\u001b[31m✖\u001b[39m \u001b[34mdplyr\u001b[39m::\u001b[32mlag()\u001b[39m    masks \u001b[34mstats\u001b[39m::lag()\n",
      "\n",
      "Attaching package: ‘gridExtra’\n",
      "\n",
      "\n",
      "The following object is masked from ‘package:dplyr’:\n",
      "\n",
      "    combine\n",
      "\n",
      "\n"
     ]
    }
   ],
   "source": [
    "# Importing required libraries\n",
    "\n",
    "library(tidyverse)\n",
    "library(repr)\n",
    "library(datateachr)\n",
    "library(digest)\n",
    "library(infer)\n",
    "library(gridExtra)\n",
    "library(cowplot)\n",
    "\n",
    "# Reading the dataset"
   ]
  }
 ],
 "metadata": {
  "kernelspec": {
   "display_name": "R",
   "language": "R",
   "name": "ir"
  },
  "language_info": {
   "codemirror_mode": "r",
   "file_extension": ".r",
   "mimetype": "text/x-r-source",
   "name": "R",
   "pygments_lexer": "r",
   "version": "4.1.3"
  }
 },
 "nbformat": 4,
 "nbformat_minor": 5
}
